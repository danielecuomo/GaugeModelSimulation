{
 "cells": [
  {
   "cell_type": "code",
   "execution_count": null,
   "id": "1faa41fe-f29b-42bf-aaaf-93bbdca2e7cd",
   "metadata": {},
   "outputs": [],
   "source": [
    "import qiskit\n",
    "import qiskit_ibm_runtime\n",
    "import numpy as np\n",
    "from numpy import pi\n",
    "import matplotlib.pyplot as plt\n",
    "from scipy.optimize import curve_fit\n",
    "\n",
    "from qiskit import QuantumCircuit, transpile\n",
    "from qiskit_aer import AerSimulator\n",
    "\n",
    "from qiskit_ibm_runtime import QiskitRuntimeService, EstimatorV2 as Estimator\n",
    "\n",
    "from qiskit.quantum_info import SparsePauliOp\n",
    "from qiskit.circuit.library import PauliEvolutionGate\n",
    "from qiskit.transpiler import generate_preset_pass_manager\n",
    "from qiskit_ibm_runtime import EstimatorV2 as Estimator\n",
    "from qiskit.circuit import Parameter"
   ]
  },
  {
   "cell_type": "code",
   "execution_count": null,
   "id": "502c38af-4bb3-4493-b184-4fb4b21134e7",
   "metadata": {},
   "outputs": [],
   "source": [
    "service = QiskitRuntimeService.save_account(token, instance=\"*\", overwrite=\"True\")"
   ]
  },
  {
   "cell_type": "code",
   "execution_count": null,
   "id": "afadb0cb-71e5-4ece-ac07-83d9881bc193",
   "metadata": {},
   "outputs": [],
   "source": [
    "γ = Parameter('γ')\n",
    "η = Parameter('η')\n",
    "β = Parameter('β')\n",
    "\n",
    "X = SparsePauliOp(\"X\")\n",
    "Z = SparsePauliOp(\"Z\")\n",
    "\n",
    "qc_sym = QuantumCircuit(7)\n",
    "\n",
    "qc_sym.h([0,1])\n",
    "qc_sym.cx(0,5)\n",
    "qc_sym.cx(1,6)\n",
    "qc_sym.barrier()\n",
    "\n",
    "ZZZ = PauliEvolutionGate(Z^Z^Z, time=β*γ)\n",
    "ZX = PauliEvolutionGate(Z^X, time=β*η)\n",
    "\n",
    "qc_sym.h([2,3,4])\n",
    "\n",
    "qc_sym.append(ZZZ,[0,1,2])\n",
    "qc_sym.append(ZX,[0,3])\n",
    "qc_sym.append(ZX,[1,4])\n",
    "\n",
    "qc_sym.append(ZZZ,[0,1,2])\n",
    "qc_sym.append(ZX,[0,3])\n",
    "qc_sym.append(ZX,[1,4])\n",
    "\n",
    "\n",
    "qc_sym.sx([2,3,4])\n",
    "\n",
    "qc_sym.cx(2,0)\n",
    "qc_sym.cz(3,0)\n",
    "qc_sym.cz(4,1)\n",
    "\n",
    "qc_sym.draw(\"mpl\",scale=0.5)"
   ]
  },
  {
   "cell_type": "code",
   "execution_count": null,
   "id": "dbb2f7fc-e021-4048-95e8-5c84a7aa2659",
   "metadata": {},
   "outputs": [],
   "source": [
    "sim = AerSimulator(method=\"statevector\")"
   ]
  },
  {
   "cell_type": "code",
   "execution_count": null,
   "id": "4222de32-7d18-47c2-b261-fd82d9a1ee43",
   "metadata": {},
   "outputs": [],
   "source": [
    "H_sym = SparsePauliOp([\"IIIIIZZ\",\"IIIIIXI\",\"IIIIIIX\"], coeffs=[γ,η,η])"
   ]
  },
  {
   "cell_type": "code",
   "execution_count": null,
   "id": "c06fecb6-f52a-472b-a12e-ce9fba250140",
   "metadata": {},
   "outputs": [],
   "source": [
    "H_fix = H_sym.assign_parameters({γ:pi/4,η:pi/4})\n",
    "H_fix = SparsePauliOp(H_fix.paulis, coeffs=np.asarray(H_fix.coeffs, dtype=np.complex128)) #Forcing correct assignment"
   ]
  },
  {
   "cell_type": "code",
   "execution_count": null,
   "id": "1b6b2fb4-b59e-4f7b-8d5a-4e7e7574e59b",
   "metadata": {},
   "outputs": [],
   "source": [
    "vals = np.linspace(0.0, 0.4, 11)"
   ]
  },
  {
   "cell_type": "code",
   "execution_count": null,
   "id": "5118baf1-e106-4990-ab9b-799ad3684497",
   "metadata": {},
   "outputs": [],
   "source": [
    "pm = generate_preset_pass_manager(backend=sim, optimization_level=3)"
   ]
  },
  {
   "cell_type": "code",
   "execution_count": null,
   "id": "9f0a37a2-3d0e-44e1-8e10-592ad8a46c37",
   "metadata": {},
   "outputs": [],
   "source": [
    "results = []  # elenco di dict per tenere tutto allineato\n",
    "for val in vals:\n",
    "    qc = qc_sym.assign_parameters({γ: pi/4, η: pi/4, β: -val})\n",
    "    isa_qc = pm.run(qc)                 # circuito compilato per il backend\n",
    "    isa_H = H_fix.apply_layout(isa_qc.layout)  # H adattato al layout del circuito\n",
    "    results.append({\"beta\": val, \"isa_qc\": isa_qc, \"isa_H\": isa_H})"
   ]
  },
  {
   "cell_type": "code",
   "execution_count": null,
   "id": "247ec842-a59d-47dd-b57a-4c581c7966fd",
   "metadata": {},
   "outputs": [],
   "source": [
    "estimator = Estimator(mode=sim, options={\"default_shots\": 10000})"
   ]
  },
  {
   "cell_type": "code",
   "execution_count": null,
   "id": "fe5f6e64-a06a-45bf-bab9-5727aae7dd99",
   "metadata": {},
   "outputs": [],
   "source": [
    "trotter_steps = 2"
   ]
  },
  {
   "cell_type": "code",
   "execution_count": null,
   "id": "9b4b3340-8028-4dfd-a7d9-2ba2b44f71e3",
   "metadata": {},
   "outputs": [],
   "source": [
    "approx = []\n",
    "for item in results:  # results proviene dal codice precedente\n",
    "    beta = item[\"beta\"]\n",
    "    isa_qc = item[\"isa_qc\"]\n",
    "    isa_H = item[\"isa_H\"]\n",
    "\n",
    "    res = estimator.run([(isa_qc, isa_H)]).result()[0]\n",
    "    ev = res.data.evs\n",
    "    approx.append((beta*2*trotter_steps, ev))\n",
    "    print(f\"β = {beta*2*trotter_steps:.3f}, Expectation value = {ev}\")"
   ]
  },
  {
   "cell_type": "code",
   "execution_count": null,
   "id": "569236a1-e882-4ed4-b891-aac68445d38a",
   "metadata": {},
   "outputs": [],
   "source": [
    "# --- Parametri (usiamo gli stessi del tuo setup) ---\n",
    "gamma = pi/4\n",
    "eta = pi/4\n",
    "\n",
    "# --- Matrici di Pauli e identità ---\n",
    "I = np.array([[1, 0],\n",
    "              [0, 1]], dtype=complex)\n",
    "X = np.array([[0, 1],\n",
    "              [1, 0]], dtype=complex)\n",
    "Z = np.array([[1, 0],\n",
    "              [0,-1]], dtype=complex)\n",
    "\n",
    "# --- Costruzione di H = gamma ZZ + eta (XI + IX) ---\n",
    "ZZ = np.kron(Z, Z)\n",
    "XI = np.kron(X, I)\n",
    "IX = np.kron(I, X)\n",
    "H = gamma * ZZ + eta * (XI + IX)\n",
    "\n",
    "eps, V = np.linalg.eigh(H)\n",
    "\n",
    "def thermal_average_H(beta: float) -> float:\n",
    "\n",
    "    w = np.exp(-beta * eps)\n",
    "    Z = np.sum(w)\n",
    "    return float(np.sum(eps * w) / Z)\n",
    "\n",
    "beta_values = np.linspace(0., 1.6, 11)\n",
    "\n",
    "thermal_averages = np.array([thermal_average_H(b) for b in beta_values])\n",
    "\n",
    "for b, e in zip(beta_values, thermal_averages):\n",
    "    print(f\"beta = {b:.3f} -> <H>_beta = {e:.10f}\")"
   ]
  },
  {
   "cell_type": "code",
   "execution_count": null,
   "id": "f4a6c737-4aec-44f8-860b-b80935b3f6a2",
   "metadata": {},
   "outputs": [],
   "source": [
    "def exp_func(beta, a, b, c):\n",
    "    return a * np.exp(-b * beta) + c"
   ]
  },
  {
   "cell_type": "code",
   "execution_count": null,
   "id": "e4678e14-a435-4b47-8e36-cb6cb1757ab9",
   "metadata": {},
   "outputs": [],
   "source": [
    "gs = np.min(np.linalg.eigvalsh(H))"
   ]
  },
  {
   "cell_type": "code",
   "execution_count": null,
   "id": "137283ed-fec9-4fd0-8a33-44760df0550f",
   "metadata": {},
   "outputs": [],
   "source": [
    "import numpy as np\n",
    "import matplotlib.pyplot as plt\n",
    "from scipy.optimize import curve_fit\n",
    "\n",
    "# beta_values, thermal_averages, expectation_values già definiti\n",
    "betas_circ, evs_circ = zip(*approx)\n",
    "\n",
    "# Funzione esponenziale\n",
    "def exp_func(beta, a, b, c):\n",
    "    return a * np.exp(-b * beta) + c\n",
    "\n",
    "# Fit esponenziale\n",
    "params_th, _ = curve_fit(exp_func, beta_values, thermal_averages, p0=(1,1,0))\n",
    "params_circ, _ = curve_fit(exp_func, betas_circ, evs_circ, p0=(1,1,0))\n",
    "\n",
    "beta_smooth = np.linspace(min(beta_values), max(beta_values), 200)\n",
    "thermal_fit = exp_func(beta_smooth, *params_th)\n",
    "circuit_fit = exp_func(beta_smooth, *params_circ)\n",
    "\n",
    "plt.figure(figsize=(6,4),dpi=140)\n",
    "\n",
    "plt.scatter(beta_values, thermal_averages, color='skyblue', label='exact')\n",
    "plt.scatter(betas_circ, evs_circ, color='lightgreen', label='approx')\n",
    "\n",
    "plt.plot(beta_smooth, thermal_fit, color='skyblue', linestyle='-')\n",
    "plt.plot(beta_smooth, circuit_fit, color='lightgreen', linestyle='--')\n",
    "\n",
    "plt.axhline(y=gs, color='gray', linestyle=':', linewidth=2, label='ground')\n",
    "\n",
    "ymin = min(np.min(thermal_averages), np.min(evs_circ), gs)\n",
    "ymax = max(np.max(thermal_averages), np.max(evs_circ))\n",
    "plt.ylim(ymin - 0.1 * abs(ymin), ymax)\n",
    "\n",
    "plt.xlabel(r'$\\beta$', fontsize=12)\n",
    "plt.ylabel(r'$\\langle H \\rangle $', fontsize=12)\n",
    "plt.grid(True, alpha=0.5)\n",
    "plt.legend()\n",
    "plt.tight_layout()\n",
    "plt.show()"
   ]
  }
 ],
 "metadata": {
  "kernelspec": {
   "display_name": "Python [conda env:base] *",
   "language": "python",
   "name": "conda-base-py"
  },
  "language_info": {
   "codemirror_mode": {
    "name": "ipython",
    "version": 3
   },
   "file_extension": ".py",
   "mimetype": "text/x-python",
   "name": "python",
   "nbconvert_exporter": "python",
   "pygments_lexer": "ipython3",
   "version": "3.12.7"
  }
 },
 "nbformat": 4,
 "nbformat_minor": 5
}
