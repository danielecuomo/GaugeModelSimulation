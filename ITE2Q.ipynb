{
 "cells": [
  {
   "cell_type": "code",
   "execution_count": 1446,
   "id": "1faa41fe-f29b-42bf-aaaf-93bbdca2e7cd",
   "metadata": {},
   "outputs": [],
   "source": [
    "import qiskit\n",
    "import qiskit_ibm_runtime\n",
    "import numpy as np\n",
    "from numpy import pi\n",
    "\n",
    "\n",
    "from qiskit import QuantumCircuit, transpile\n",
    "from qiskit_aer import AerSimulator\n",
    "\n",
    "from qiskit_ibm_runtime import QiskitRuntimeService, EstimatorV2 as Estimator\n",
    "\n",
    "from qiskit.quantum_info import SparsePauliOp\n",
    "from qiskit.circuit.library import PauliEvolutionGate\n",
    "from qiskit.transpiler import generate_preset_pass_manager\n",
    "from qiskit_ibm_runtime import EstimatorV2 as Estimator\n",
    "from qiskit.circuit import Parameter"
   ]
  },
  {
   "cell_type": "code",
   "execution_count": 10,
   "id": "d172dfb2-7bdf-4d56-ae8c-3b1dd5add13e",
   "metadata": {},
   "outputs": [],
   "source": [
    "service = QiskitRuntimeService.save_account(token=\"*\", instance=\"*\", overwrite=\"True\")"
   ]
  },
  {
   "cell_type": "code",
   "execution_count": 1398,
   "id": "afadb0cb-71e5-4ece-ac07-83d9881bc193",
   "metadata": {},
   "outputs": [
    {
     "data": {
      "image/png": "[encoded data removed]",
      "text/plain": [
       "<Figure size 1021.66x309.361 with 1 Axes>"
      ]
     },
     "execution_count": 1398,
     "metadata": {},
     "output_type": "execute_result"
    }
   ],
   "source": [
    "γ = Parameter('γ')\n",
    "η = Parameter('η')\n",
    "β = Parameter('β')\n",
    "\n",
    "X = SparsePauliOp(\"X\")\n",
    "Z = SparsePauliOp(\"Z\")\n",
    "\n",
    "qc_sym = QuantumCircuit(7)\n",
    "\n",
    "qc_sym.h([0,1])\n",
    "qc_sym.cx(0,5)\n",
    "qc_sym.cx(1,6)\n",
    "qc_sym.barrier()\n",
    "\n",
    "ZZZ = PauliEvolutionGate(Z^Z^Z, time=β*γ)\n",
    "ZX = PauliEvolutionGate(Z^X, time=β*η)\n",
    "\n",
    "qc_sym.h([2,3,4])\n",
    "\n",
    "qc_sym.append(ZZZ,[0,1,2])\n",
    "qc_sym.append(ZX,[0,3])\n",
    "qc_sym.append(ZX,[1,4])\n",
    "\n",
    "qc_sym.append(ZZZ,[0,1,2])\n",
    "qc_sym.append(ZX,[0,3])\n",
    "qc_sym.append(ZX,[1,4])\n",
    "\n",
    "\n",
    "qc_sym.sx([2,3,4])\n",
    "\n",
    "qc_sym.cx(2,0)\n",
    "qc_sym.cz(3,0)\n",
    "qc_sym.cz(4,1)\n",
    "\n",
    "qc_sym.draw(\"mpl\",scale=0.5)"
   ]
  },
  {
   "cell_type": "code",
   "execution_count": 1340,
   "id": "dbb2f7fc-e021-4048-95e8-5c84a7aa2659",
   "metadata": {},
   "outputs": [],
   "source": [
    "sim = AerSimulator(method=\"statevector\")"
   ]
  },
  {
   "cell_type": "code",
   "execution_count": 1426,
   "id": "4222de32-7d18-47c2-b261-fd82d9a1ee43",
   "metadata": {},
   "outputs": [],
   "source": [
    "H_sym = SparsePauliOp([\"IIIIIZZ\",\"IIIIIXI\",\"IIIIIIX\"], coeffs=[γ,η,η])"
   ]
  },
  {
   "cell_type": "code",
   "execution_count": 1586,
   "id": "c3f341d8-654c-4a01-a347-c658aebc2a73",
   "metadata": {},
   "outputs": [],
   "source": [
    "H = H_sym.assign_parameters({γ:pi/4,η:pi/4})\n",
    "H = SparsePauliOp(H.paulis, coeffs=np.asarray(H.coeffs, dtype=np.complex128)) #Forcing correct assignment\n",
    "\n",
    "qc = qc_sym.assign_parameters({γ:pi/4,η:pi/4,β:-0.4})"
   ]
  },
  {
   "cell_type": "code",
   "execution_count": 1588,
   "id": "5118baf1-e106-4990-ab9b-799ad3684497",
   "metadata": {},
   "outputs": [],
   "source": [
    "pm = generate_preset_pass_manager(backend=sim, optimization_level=3)\n",
    "isa_qc = pm.run(qc)\n",
    "isa_H = H.apply_layout(isa_qc.layout)"
   ]
  },
  {
   "cell_type": "code",
   "execution_count": 1590,
   "id": "247ec842-a59d-47dd-b57a-4c581c7966fd",
   "metadata": {},
   "outputs": [],
   "source": [
    "estimator = Estimator(mode=sim, options={\"default_shots\": 10000})"
   ]
  },
  {
   "cell_type": "code",
   "execution_count": 1592,
   "id": "7c5d3a82-5f97-42cd-b7ae-fd96c1d72b8d",
   "metadata": {},
   "outputs": [
    {
     "name": "stdout",
     "output_type": "stream",
     "text": [
      "Expectation values: -1.5868184493282045\n"
     ]
    }
   ],
   "source": [
    "res = estimator.run([(isa_qc, isa_H)]).result()[0]\n",
    "print(f\"Expectation values: {res.data.evs}\")"
   ]
  }
 ],
 "metadata": {
  "kernelspec": {
   "display_name": "Python [conda env:base] *",
   "language": "python",
   "name": "conda-base-py"
  },
  "language_info": {
   "codemirror_mode": {
    "name": "ipython",
    "version": 3
   },
   "file_extension": ".py",
   "mimetype": "text/x-python",
   "name": "python",
   "nbconvert_exporter": "python",
   "pygments_lexer": "ipython3",
   "version": "3.12.7"
  }
 },
 "nbformat": 4,
 "nbformat_minor": 5
}
